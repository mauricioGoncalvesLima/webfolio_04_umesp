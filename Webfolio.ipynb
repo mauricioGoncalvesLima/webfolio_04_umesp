{
 "cells": [
  {
   "cell_type": "markdown",
   "id": "e19a7749",
   "metadata": {},
   "source": [
    "<h1> Webfólio da Aula 04 de Processamento de Linguagem Natural<br></h1>"
   ]
  },
  {
   "cell_type": "markdown",
   "id": "d8713b12",
   "metadata": {},
   "source": [
    "<h2>Universidade Metodista do Estado de São Paulo</h2>"
   ]
  },
  {
   "cell_type": "markdown",
   "id": "2b391386",
   "metadata": {},
   "source": [
    "<h5>Mauricio Lima Gonçalves<br>\n",
    "Curso: Ciência de dados e Big Data<br>\n",
    "Período 2</h5>"
   ]
  },
  {
   "cell_type": "markdown",
   "id": "f06c3123",
   "metadata": {},
   "source": [
    "<h5>Para fazer n-gramas, vamos usar o método ngrams() da biblioteca nltk<br>\n",
    "A tokenização será feita com o método wordpunct_tokenize() da mesma biblioteca</h5>\n"
   ]
  },
  {
   "cell_type": "code",
   "execution_count": 3,
   "id": "3db82d48",
   "metadata": {},
   "outputs": [],
   "source": [
    "# Importando a biblioteca:\n",
    "from nltk import ngrams\n",
    "from nltk.tokenize import wordpunct_tokenize"
   ]
  },
  {
   "cell_type": "code",
   "execution_count": 15,
   "id": "a218f873",
   "metadata": {},
   "outputs": [],
   "source": [
    "# Definido o texto\n",
    "text = 'O rato roeu a roupa do rei de Roma'"
   ]
  },
  {
   "cell_type": "code",
   "execution_count": 17,
   "id": "74019bf1",
   "metadata": {},
   "outputs": [
    {
     "name": "stdout",
     "output_type": "stream",
     "text": [
      "['O', 'rato', 'roeu', 'a', 'roupa', 'do', 'rei', 'de', 'Roma']\n"
     ]
    }
   ],
   "source": [
    "# Tokenizando e conferindo tokens:\n",
    "\n",
    "tokens = wordpunct_tokenize(text)\n",
    "print(tokens)"
   ]
  },
  {
   "cell_type": "markdown",
   "id": "529974dc",
   "metadata": {},
   "source": [
    "<h5>Vamos passar 2 parâmetros para esse método:<br>\n",
    "ngrams(<termos>, n=)<br>\n",
    "<termos> = tokens a serem incluídos no ngrama<br>\n",
    "n = é define o valor de n, para que o metodo retorne um unigrama, bigrama, trigrama, etc</h5>"
   ]
  },
  {
   "cell_type": "code",
   "execution_count": 8,
   "id": "877a78be",
   "metadata": {},
   "outputs": [
    {
     "name": "stdout",
     "output_type": "stream",
     "text": [
      "[('O', 'rato', 'roeu'), ('rato', 'roeu', 'a'), ('roeu', 'a', 'roupa'), ('a', 'roupa', 'do'), ('roupa', 'do', 'rei'), ('do', 'rei', 'de'), ('rei', 'de', 'Roma')]\n"
     ]
    }
   ],
   "source": [
    "# Criando trigramas com list comprehension e método ngrams()\n",
    "\n",
    "trigrama = [word for word in ngrams(tokens, n=3)]\n",
    "print(trigrama)"
   ]
  },
  {
   "cell_type": "code",
   "execution_count": 13,
   "id": "dcffd19a",
   "metadata": {},
   "outputs": [
    {
     "name": "stdout",
     "output_type": "stream",
     "text": [
      "['O_rato_roeu', 'rato_roeu_a', 'roeu_a_roupa', 'a_roupa_do', 'roupa_do_rei', 'do_rei_de', 'rei_de_Roma']\n"
     ]
    }
   ],
   "source": [
    "# Para uma melhor visualiação, podemos usar a função join() para incluir um '_' entre as palavras\n",
    "\n",
    "trigrama2 = ['_'.join(word) for word in ngrams(tokens, n=3)]\n",
    "print(trigrama2)"
   ]
  },
  {
   "cell_type": "code",
   "execution_count": null,
   "id": "98544dbf",
   "metadata": {},
   "outputs": [],
   "source": []
  }
 ],
 "metadata": {
  "kernelspec": {
   "display_name": "Python 3",
   "language": "python",
   "name": "python3"
  },
  "language_info": {
   "codemirror_mode": {
    "name": "ipython",
    "version": 3
   },
   "file_extension": ".py",
   "mimetype": "text/x-python",
   "name": "python",
   "nbconvert_exporter": "python",
   "pygments_lexer": "ipython3",
   "version": "3.8.8"
  }
 },
 "nbformat": 4,
 "nbformat_minor": 5
}
